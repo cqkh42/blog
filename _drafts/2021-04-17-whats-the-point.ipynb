{
 "cells": [
  {
   "cell_type": "markdown",
   "id": "random-natural",
   "metadata": {
    "slideshow": {
     "slide_type": "slide"
    },
    "tags": []
   },
   "source": [
    "# What's the Point?\n",
    "\n",
    "## An Introduction to Digital Cartography"
   ]
  },
  {
   "cell_type": "markdown",
   "id": "previous-seafood",
   "metadata": {
    "slideshow": {
     "slide_type": "subslide"
    },
    "tags": []
   },
   "source": [
    "### AKA"
   ]
  },
  {
   "cell_type": "markdown",
   "id": "together-radius",
   "metadata": {
    "slideshow": {
     "slide_type": "fragment"
    },
    "tags": []
   },
   "source": [
    "* Getting into Shape"
   ]
  },
  {
   "cell_type": "markdown",
   "id": "deadly-briefing",
   "metadata": {
    "slideshow": {
     "slide_type": "fragment"
    },
    "tags": []
   },
   "source": [
    "* Hey Ho, Let's Geo"
   ]
  },
  {
   "cell_type": "markdown",
   "id": "controlling-directive",
   "metadata": {
    "slideshow": {
     "slide_type": "fragment"
    },
    "tags": []
   },
   "source": [
    "* Poly Go, Poly Going, Polygon"
   ]
  },
  {
   "cell_type": "markdown",
   "id": "dated-advantage",
   "metadata": {
    "slideshow": {
     "slide_type": "slide"
    },
    "tags": []
   },
   "source": [
    "# What We're Going to Cover"
   ]
  },
  {
   "cell_type": "markdown",
   "id": "conscious-editing",
   "metadata": {
    "slideshow": {
     "slide_type": "fragment"
    },
    "tags": []
   },
   "source": [
    "* Maps"
   ]
  },
  {
   "cell_type": "markdown",
   "id": "buried-amount",
   "metadata": {
    "slideshow": {
     "slide_type": "fragment"
    },
    "tags": []
   },
   "source": [
    "* Coordinates"
   ]
  },
  {
   "cell_type": "markdown",
   "id": "ignored-baking",
   "metadata": {
    "slideshow": {
     "slide_type": "fragment"
    },
    "tags": []
   },
   "source": [
    "* From 2D to 3D"
   ]
  },
  {
   "cell_type": "markdown",
   "id": "tested-crazy",
   "metadata": {
    "slideshow": {
     "slide_type": "fragment"
    },
    "tags": []
   },
   "source": [
    "* Data Visualisation"
   ]
  },
  {
   "cell_type": "markdown",
   "id": "spectacular-mayor",
   "metadata": {
    "slideshow": {
     "slide_type": "fragment"
    },
    "tags": []
   },
   "source": [
    "* Polygon Simplification"
   ]
  },
  {
   "cell_type": "markdown",
   "id": "extra-mumbai",
   "metadata": {
    "slideshow": {
     "slide_type": "fragment"
    },
    "tags": []
   },
   "source": [
    "* Data Storage and Manipulation"
   ]
  },
  {
   "cell_type": "markdown",
   "id": "intended-apparatus",
   "metadata": {
    "slideshow": {
     "slide_type": "slide"
    },
    "tags": []
   },
   "source": [
    "# Maps"
   ]
  },
  {
   "cell_type": "markdown",
   "id": "signed-israel",
   "metadata": {
    "slideshow": {
     "slide_type": "subslide"
    },
    "tags": []
   },
   "source": [
    "![mercator projection](480px-Mercator_projection_Square.jpeg)\n",
    "\n",
    "*By Strebe - Own work, CC BY-SA 3.0, https://commons.wikimedia.org/w/index.php?curid=17700069*"
   ]
  },
  {
   "cell_type": "markdown",
   "id": "activated-malta",
   "metadata": {},
   "source": [
    "* Maps\n",
    "\n",
    "* real sizes\n",
    "\n",
    "* projections\n",
    "\n",
    "* coordinates"
   ]
  },
  {
   "cell_type": "markdown",
   "id": "committed-recorder",
   "metadata": {
    "slideshow": {
     "slide_type": "subslide"
    },
    "tags": []
   },
   "source": [
    "testing\n",
    "\n",
    "rejected titles\n",
    "\n",
    "what we're going to cover\n",
    "\n",
    "ground rules\n",
    "\n",
    "xkcds\n",
    "\n"
   ]
  },
  {
   "cell_type": "markdown",
   "id": "scenic-disabled",
   "metadata": {},
   "source": [
    "# What is This?\n",
    "\n",
    "* Point\n",
    "\n",
    "* Line\n",
    "\n",
    "* Polygon\n",
    "\n",
    "granularity of coordinates\n",
    "\n",
    "working in a non-square world\n",
    "\n",
    "riddle\n",
    "\n",
    "calculating areas\n",
    "\n",
    "haversine formula/ geographical distance\n",
    "\n",
    "visualisation\n",
    "\n",
    "simplification\n",
    "\n",
    "manipulation\n",
    "\n",
    "storage"
   ]
  }
 ],
 "metadata": {
  "kernelspec": {
   "display_name": "Python 3",
   "language": "python",
   "name": "python3"
  },
  "language_info": {
   "codemirror_mode": {
    "name": "ipython",
    "version": 3
   },
   "file_extension": ".py",
   "mimetype": "text/x-python",
   "name": "python",
   "nbconvert_exporter": "python",
   "pygments_lexer": "ipython3",
   "version": "3.9.4"
  }
 },
 "nbformat": 4,
 "nbformat_minor": 5
}
