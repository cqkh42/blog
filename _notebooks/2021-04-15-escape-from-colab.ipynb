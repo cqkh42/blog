{
 "cells": [
  {
   "cell_type": "markdown",
   "id": "fundamental-snake",
   "metadata": {},
   "source": [
    "# Escape From Colab\n",
    "> Eventually, you're going to wanto to escape from the Colaboratory. Here is how to do it.\n",
    "\n",
    "- toc: true\n",
    "- badges: true\n",
    "- comments: true\n",
    "- categories: [colaboratory, python]\n"
   ]
  },
  {
   "cell_type": "markdown",
   "id": "alone-divide",
   "metadata": {},
   "source": [
    "# Everyone Loves Free Stuff\n",
    "\n",
    "Ask any budding Data Scientist what they want and, after answering coffee, you might hear the answer:\n",
    "\n",
    "> A GPU, maybe 2; actually, as many GPUs as you can afford.\n",
    "\n",
    "Sadly, not everyone has the budget to outbid the countless crypto-miners who are consistently driving up the price of anything capable of number-crunching.\n",
    "\n",
    "![](https://images.unsplash.com/photo-1587134160474-cd3c9a60a34a \"A GPU is for life, not just for Christmas\")"
   ]
  },
  {
   "cell_type": "markdown",
   "id": "chinese-vertex",
   "metadata": {},
   "source": [
    "Just when all hope appears to be lost, enter Google Colaboratory, or colab for short."
   ]
  },
  {
   "cell_type": "markdown",
   "id": "identical-accreditation",
   "metadata": {},
   "source": [
    "# test 1"
   ]
  },
  {
   "cell_type": "code",
   "execution_count": null,
   "id": "moved-world",
   "metadata": {},
   "outputs": [],
   "source": []
  }
 ],
 "metadata": {
  "kernelspec": {
   "display_name": "Python 3",
   "language": "python",
   "name": "python3"
  },
  "language_info": {
   "codemirror_mode": {
    "name": "ipython",
    "version": 3
   },
   "file_extension": ".py",
   "mimetype": "text/x-python",
   "name": "python",
   "nbconvert_exporter": "python",
   "pygments_lexer": "ipython3",
   "version": "3.9.4"
  }
 },
 "nbformat": 4,
 "nbformat_minor": 5
}
